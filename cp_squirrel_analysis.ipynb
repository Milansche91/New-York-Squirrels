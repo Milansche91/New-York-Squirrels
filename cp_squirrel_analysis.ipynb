{
 "cells": [
  {
   "cell_type": "code",
   "execution_count": null,
   "id": "85fe24e1",
   "metadata": {},
   "outputs": [],
   "source": [
    "from IPython.display import display, HTML\n",
    "display(HTML(\"<style>.container { width:90% !important; }</style>\"))"
   ]
  },
  {
   "cell_type": "code",
   "execution_count": null,
   "id": "81d2f328",
   "metadata": {},
   "outputs": [],
   "source": [
    "import pandas as pd\n",
    "import numpy as np"
   ]
  },
  {
   "cell_type": "code",
   "execution_count": null,
   "id": "d032242a",
   "metadata": {},
   "outputs": [],
   "source": [
    "from sklearn.impute import KNNImputer\n",
    "from sklearn.model_selection import train_test_split, cross_val_score\n",
    "from sklearn.ensemble import RandomForestClassifier\n",
    "from sklearn.preprocessing import LabelEncoder\n",
    "from sklearn.pipeline import Pipeline\n",
    "from sklearn.compose import ColumnTransformer\n",
    "from sklearn.preprocessing import StandardScaler, OneHotEncoder"
   ]
  },
  {
   "cell_type": "code",
   "execution_count": null,
   "id": "2b192a56",
   "metadata": {},
   "outputs": [],
   "source": [
    "import folium"
   ]
  },
  {
   "cell_type": "code",
   "execution_count": null,
   "id": "8a2e274d",
   "metadata": {},
   "outputs": [],
   "source": [
    "data = pd.read_csv(\"squirrel_data.csv\")"
   ]
  },
  {
   "cell_type": "code",
   "execution_count": null,
   "id": "30651665",
   "metadata": {},
   "outputs": [],
   "source": [
    "data.head()"
   ]
  },
  {
   "cell_type": "code",
   "execution_count": null,
   "id": "8d467c17",
   "metadata": {},
   "outputs": [],
   "source": [
    "data.columns"
   ]
  },
  {
   "cell_type": "code",
   "execution_count": null,
   "id": "921ea6a4",
   "metadata": {},
   "outputs": [],
   "source": [
    "df = data[['X', 'Y',\n",
    "       'Hectare Squirrel Number', 'Age', 'Primary Fur Color']]"
   ]
  },
  {
   "cell_type": "code",
   "execution_count": null,
   "id": "aa8bb4b2",
   "metadata": {},
   "outputs": [],
   "source": [
    "df['Age'] = df['Age'].replace('?', 'Adult')\n",
    "df['Age'] = df['Age'].fillna('Adult')"
   ]
  },
  {
   "cell_type": "code",
   "execution_count": null,
   "id": "cc9d6f0a",
   "metadata": {},
   "outputs": [],
   "source": [
    "df = df.rename(columns={'X': 'Longitude'})\n",
    "df = df.rename(columns={'Y': 'Latitude'})"
   ]
  },
  {
   "cell_type": "code",
   "execution_count": null,
   "id": "976d9a88",
   "metadata": {},
   "outputs": [],
   "source": [
    "df.head()"
   ]
  },
  {
   "cell_type": "code",
   "execution_count": null,
   "id": "3e19953a",
   "metadata": {},
   "outputs": [],
   "source": [
    "df['Primary Fur Color'] = df['Primary Fur Color'].fillna('Unknown')"
   ]
  },
  {
   "cell_type": "code",
   "execution_count": null,
   "id": "4baccd5b",
   "metadata": {},
   "outputs": [],
   "source": [
    "le_color = LabelEncoder()\n",
    "df['Primary Fur Color'] = le_color.fit_transform(df['Primary Fur Color'])"
   ]
  },
  {
   "cell_type": "code",
   "execution_count": null,
   "id": "14566370",
   "metadata": {},
   "outputs": [],
   "source": [
    "features = ['Longitude', 'Latitude', 'Hectare Squirrel Number']\n",
    "X = df[features]\n",
    "y = df['Primary Fur Color']"
   ]
  },
  {
   "cell_type": "code",
   "execution_count": null,
   "id": "ce4d77dd",
   "metadata": {},
   "outputs": [],
   "source": [
    "mask_missing = df['Primary Fur Color'] == le_color.transform(['Unknown'])[0]\n",
    "X_missing = X[mask_missing]\n",
    "y_missing = y[mask_missing]\n",
    "X_known = X[~mask_missing]\n",
    "y_known = y[~mask_missing]"
   ]
  },
  {
   "cell_type": "code",
   "execution_count": null,
   "id": "dcb1d233",
   "metadata": {},
   "outputs": [],
   "source": [
    "model = Pipeline(steps=[\n",
    "    ('scaler', StandardScaler()),  # Standardize features\n",
    "    ('classifier', RandomForestClassifier(n_estimators=100, random_state=42))\n",
    "])"
   ]
  },
  {
   "cell_type": "code",
   "execution_count": null,
   "id": "2a3f8510",
   "metadata": {},
   "outputs": [],
   "source": [
    "cross_val_scores = cross_val_score(model, X_known, y_known, cv=5)\n",
    "print(f'Cross-validation scores: {cross_val_scores}')\n",
    "print(f'Average cross-validation score: {cross_val_scores.mean()}')"
   ]
  },
  {
   "cell_type": "code",
   "execution_count": null,
   "id": "100c1be8",
   "metadata": {},
   "outputs": [],
   "source": [
    "model.fit(X_known, y_known)"
   ]
  },
  {
   "cell_type": "code",
   "execution_count": null,
   "id": "07422471",
   "metadata": {},
   "outputs": [],
   "source": [
    "y_missing_pred = model.predict(X_missing)"
   ]
  },
  {
   "cell_type": "code",
   "execution_count": null,
   "id": "cefb539b",
   "metadata": {},
   "outputs": [],
   "source": [
    "df.loc[mask_missing, 'Primary Fur Color'] = y_missing_pred"
   ]
  },
  {
   "cell_type": "code",
   "execution_count": null,
   "id": "c33fa9f0",
   "metadata": {},
   "outputs": [],
   "source": [
    "df['Primary Fur Color'] = le_color.inverse_transform(df['Primary Fur Color'])"
   ]
  },
  {
   "cell_type": "code",
   "execution_count": null,
   "id": "b6fb1532",
   "metadata": {},
   "outputs": [],
   "source": [
    "df.to_csv('updated_dataset.csv', index=False)"
   ]
  },
  {
   "cell_type": "code",
   "execution_count": null,
   "id": "1e199b15",
   "metadata": {},
   "outputs": [],
   "source": [
    "df.head()"
   ]
  },
  {
   "cell_type": "code",
   "execution_count": null,
   "id": "cdbcfd75",
   "metadata": {},
   "outputs": [],
   "source": [
    "df[\"Primary Fur Color\"].unique()"
   ]
  },
  {
   "cell_type": "code",
   "execution_count": null,
   "id": "23c113a8",
   "metadata": {},
   "outputs": [],
   "source": [
    "updated_df = pd.read_csv(\"updated_dataset.csv\")"
   ]
  },
  {
   "cell_type": "code",
   "execution_count": null,
   "id": "228e2eb8",
   "metadata": {},
   "outputs": [],
   "source": [
    "central_park_lat = 40.785091\n",
    "central_park_lon = -73.968285\n",
    "m = folium.Map(location=[central_park_lat, central_park_lon], zoom_start=13)"
   ]
  },
  {
   "cell_type": "code",
   "execution_count": null,
   "id": "2f0fef73",
   "metadata": {},
   "outputs": [],
   "source": [
    "color_map = {\n",
    "    'Gray': '295F98',\n",
    "    'Cinnamon': 'brown',\n",
    "    'Black': 'black',\n",
    "    'Unknown': 'lightblue'\n",
    "}"
   ]
  },
  {
   "cell_type": "code",
   "execution_count": null,
   "id": "99d23396",
   "metadata": {},
   "outputs": [],
   "source": [
    "for _, row in df.iterrows():\n",
    "    fur_color = row['Primary Fur Color']\n",
    "    color = color_map.get(fur_color, 'lightblue')  # Default to lightblue if color not found\n",
    "    folium.CircleMarker(\n",
    "        location=[row['Latitude'], row['Longitude']],\n",
    "        radius=5,\n",
    "        color=color,\n",
    "        fill=True,\n",
    "        fill_color=color,\n",
    "        fill_opacity=0.7,\n",
    "        popup=f'Fur Color: {fur_color}'\n",
    "    ).add_to(m)"
   ]
  },
  {
   "cell_type": "code",
   "execution_count": null,
   "id": "f0b73d63",
   "metadata": {},
   "outputs": [],
   "source": [
    "m.save('squirrel_map.html')"
   ]
  },
  {
   "cell_type": "code",
   "execution_count": null,
   "id": "3a29ed92",
   "metadata": {},
   "outputs": [],
   "source": [
    "m"
   ]
  }
 ],
 "metadata": {
  "kernelspec": {
   "display_name": "Python 3 (ipykernel)",
   "language": "python",
   "name": "python3"
  },
  "language_info": {
   "codemirror_mode": {
    "name": "ipython",
    "version": 3
   },
   "file_extension": ".py",
   "mimetype": "text/x-python",
   "name": "python",
   "nbconvert_exporter": "python",
   "pygments_lexer": "ipython3",
   "version": "3.11.7"
  }
 },
 "nbformat": 4,
 "nbformat_minor": 5
}
